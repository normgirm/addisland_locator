{
 "cells": [
  {
   "cell_type": "code",
   "execution_count": 4,
   "metadata": {},
   "outputs": [],
   "source": [
    "import threading\n",
    "import time\n",
    "import os\n",
    "\n",
    "def run_flask():\n",
    "    os.system(\"python app.py\")\n",
    "\n",
    "# Run Flask in a separate thread\n",
    "flask_thread = threading.Thread(target=run_flask, daemon=True)\n",
    "flask_thread.start()\n",
    "\n",
    "# The Flask app runs in the background, and you can continue using the notebook.\n"
   ]
  },
  {
   "cell_type": "code",
   "execution_count": 11,
   "metadata": {},
   "outputs": [],
   "source": [
    "import numpy as np\n",
    "import folium\n",
    "import utm\n",
    "import requests\n",
    "import matplotlib.pyplot as plt\n",
    "from scipy.interpolate import LinearNDInterpolator\n",
    "\n",
    "def plot_easting_northing_matrix_in_google_map(eastings_northings_matrix, my_title=\"Location of Points on Google Maps\", ref_lat_lon=None):\n",
    "    \"\"\"\n",
    "    Converts Easting/Northing to Latitude/Longitude, calibrates the points, and plots them on an interactive Google Map.\n",
    "    \n",
    "    Parameters:\n",
    "        eastings_northings_matrix (list of lists): Easting/Northing coordinates.\n",
    "        my_title (str): Title for the plot.\n",
    "        ref_lat_lon (tuple or None): Reference latitude/longitude (e.g., Meskel Square) to determine the UTM zone.\n",
    "    \"\"\"\n",
    "    try:\n",
    "        if ref_lat_lon and len(ref_lat_lon) == 2:\n",
    "            example_easting, example_northing, zone, _ = utm.from_latlon(ref_lat_lon[0], ref_lat_lon[1])\n",
    "        else:\n",
    "            zone = 37  # Default UTM zone for Addis Ababa\n",
    "\n",
    "        eastings = np.array(eastings_northings_matrix)[:, 0]\n",
    "        northings = np.array(eastings_northings_matrix)[:, 1]\n",
    "\n",
    "        # Calibration values for correcting positions\n",
    "        given_easting = np.array([477504.6975, 482977.07875, 487741.8536])\n",
    "        given_northing = np.array([980922.813, 992734.94275, 993586.1784])\n",
    "        easting_calib_req = np.array([90.6484, 92.6484, 94.6484])\n",
    "        northing_calib_req = np.array([204.2779, 210.2779, 208.2779])\n",
    "\n",
    "        # Compute the mean values for interpolation\n",
    "        this_mean_easting = np.mean(eastings)\n",
    "        this_mean_northing = np.mean(northings)\n",
    "\n",
    "        # Linear interpolation for calibration\n",
    "        F_easting_calib_req = LinearNDInterpolator(list(zip(given_easting, given_northing)), easting_calib_req)\n",
    "        F_northing_calib_req = LinearNDInterpolator(list(zip(given_easting, given_northing)), northing_calib_req)\n",
    "\n",
    "        calib_value_eastings = F_easting_calib_req(this_mean_easting, this_mean_northing)\n",
    "        calib_value_northings = F_northing_calib_req(this_mean_easting, this_mean_northing)\n",
    "\n",
    "        precalib_eastings = eastings + calib_value_eastings\n",
    "        precalib_northings = northings + calib_value_northings\n",
    "\n",
    "        computed_lats, computed_lons = [], []\n",
    "        for e, n in zip(precalib_eastings, precalib_northings):\n",
    "            lat, lon = utm.to_latlon(e, n, zone, northern=True)\n",
    "            computed_lats.append(lat)\n",
    "            computed_lons.append(lon)\n",
    "\n",
    "        # Close the plot shape\n",
    "        computed_lats.append(computed_lats[0])\n",
    "        computed_lons.append(computed_lons[0])\n",
    "\n",
    "        # Plot on an interactive Google Map\n",
    "        center_lat, center_lon = np.mean(computed_lats), np.mean(computed_lons)\n",
    "        map_ = folium.Map(location=[center_lat, center_lon], zoom_start=17, tiles=\"OpenStreetMap\")\n",
    "\n",
    "        # Add markers for each point\n",
    "        for lat, lon in zip(computed_lats[:-1], computed_lons[:-1]):\n",
    "            folium.Marker([lat, lon], popup=\"Point\").add_to(map_)\n",
    "\n",
    "        # Draw polygon\n",
    "        folium.PolyLine(list(zip(computed_lats, computed_lons)), color=\"blue\", weight=2.5, opacity=1).add_to(map_)\n",
    "\n",
    "        print(\"✅ Successfully plotted given coordinates on Google Map.\")\n",
    "\n",
    "        # Save as an HTML file and open in browser\n",
    "        map_.save(\"map.html\")\n",
    "        import webbrowser\n",
    "        webbrowser.open(\"map.html\")\n",
    "\n",
    "        # Open Google Maps with a route if a reference location is provided\n",
    "        if ref_lat_lon:\n",
    "            google_maps_url = f\"https://www.google.com/maps/dir/{center_lat},{center_lon}/{ref_lat_lon[0]},{ref_lat_lon[1]}\"\n",
    "            webbrowser.open(google_maps_url)\n",
    "\n",
    "    except Exception as e:\n",
    "        print(\"❌ Failed to plot given coordinates on Google Map.\")\n",
    "        print(f\"Error: {e}\")\n",
    "\n"
   ]
  },
  {
   "cell_type": "code",
   "execution_count": 12,
   "metadata": {},
   "outputs": [
    {
     "name": "stdout",
     "output_type": "stream",
     "text": [
      "✅ Successfully plotted given coordinates on Google Map.\n"
     ]
    }
   ],
   "source": [
    "easting_northing_data = [\n",
    "    [482000, 990500],\n",
    "    [482500, 990800],\n",
    "    [482200, 991000],\n",
    "    [482000, 990500]  # Closing the polygon\n",
    "]\n",
    "\n",
    "ref_point = (9.0108, 38.7613)  # Example: Meskel Square\n",
    "plot_easting_northing_matrix_in_google_map(easting_northing_data, \"Land Plot\", ref_point)\n"
   ]
  },
  {
   "cell_type": "code",
   "execution_count": 7,
   "metadata": {},
   "outputs": [
    {
     "name": "stdout",
     "output_type": "stream",
     "text": [
      "[]\n",
      "{'possessors_full_name': 'unknown', 'date_issued': '', 'possession_type': '', 'transfer_type': '', 'sub_city': '', 'woreda': '', 'area_m2': 0, 'built_up_area': 0}\n"
     ]
    }
   ],
   "source": [
    "from bs4 import BeautifulSoup\n",
    "\n",
    "def parse_certificate_html(html_content):\n",
    "    soup = BeautifulSoup(html_content, 'html.parser')\n",
    "    \n",
    "    # Initialize variables with default values\n",
    "    possessors_full_name = 'unknown'\n",
    "    date_issued = '' \n",
    "    \n",
    "    # Extract date of issue\n",
    "    date_issued = soup.find('div', style=\"WIDTH:25.33mm;\").text.strip()\n",
    "\n",
    "    # Extract possessor's name\n",
    "    possessors_full_name = soup.find('div', style=\"WIDTH:62.21mm;\").text.strip()\n",
    "\n",
    "\n",
    "    \n",
    "    return {\n",
    "        'possessors_full_name': possessors_full_name,\n",
    "        'date_issued': date_issued\n",
    "    }\n",
    "\n",
    "#Example usage:\n",
    "with open('temp_html_output.txt', 'r', encoding='utf-8') as f:\n",
    "    html_content = f.read()\n",
    "result = parse_certificate_html(html_content)\n",
    "print(result)"
   ]
  },
  {
   "cell_type": "code",
   "execution_count": 2,
   "metadata": {},
   "outputs": [
    {
     "name": "stdout",
     "output_type": "stream",
     "text": [
      "Collecting beautifulsoup4\n",
      "  Using cached beautifulsoup4-4.13.3-py3-none-any.whl.metadata (3.8 kB)\n",
      "Collecting soupsieve>1.2 (from beautifulsoup4)\n",
      "  Using cached soupsieve-2.6-py3-none-any.whl.metadata (4.6 kB)\n",
      "Requirement already satisfied: typing-extensions>=4.0.0 in c:\\users\\zonwo\\appdata\\local\\programs\\python\\python312\\lib\\site-packages (from beautifulsoup4) (4.12.2)\n",
      "Using cached beautifulsoup4-4.13.3-py3-none-any.whl (186 kB)\n",
      "Using cached soupsieve-2.6-py3-none-any.whl (36 kB)\n",
      "Installing collected packages: soupsieve, beautifulsoup4\n",
      "Successfully installed beautifulsoup4-4.13.3 soupsieve-2.6\n",
      "Note: you may need to restart the kernel to use updated packages.\n"
     ]
    },
    {
     "name": "stderr",
     "output_type": "stream",
     "text": [
      "\n",
      "[notice] A new release of pip is available: 24.3.1 -> 25.0.1\n",
      "[notice] To update, run: python.exe -m pip install --upgrade pip\n"
     ]
    }
   ],
   "source": [
    "pip install beautifulsoup4"
   ]
  },
  {
   "cell_type": "code",
   "execution_count": null,
   "metadata": {},
   "outputs": [],
   "source": []
  }
 ],
 "metadata": {
  "kernelspec": {
   "display_name": "Python 3",
   "language": "python",
   "name": "python3"
  },
  "language_info": {
   "codemirror_mode": {
    "name": "ipython",
    "version": 3
   },
   "file_extension": ".py",
   "mimetype": "text/x-python",
   "name": "python",
   "nbconvert_exporter": "python",
   "pygments_lexer": "ipython3",
   "version": "3.12.9"
  }
 },
 "nbformat": 4,
 "nbformat_minor": 2
}
